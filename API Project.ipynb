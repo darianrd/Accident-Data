{
 "cells": [
  {
   "cell_type": "code",
   "execution_count": 21,
   "metadata": {},
   "outputs": [],
   "source": [
    "import pandas as pd\n",
    "import requests"
   ]
  },
  {
   "cell_type": "code",
   "execution_count": 2,
   "metadata": {},
   "outputs": [
    {
     "data": {
      "text/plain": [
       "'https://crashviewer.nhtsa.dot.gov/CrashAPI'"
      ]
     },
     "execution_count": 2,
     "metadata": {},
     "output_type": "execute_result"
    }
   ],
   "source": [
    "baseurl = 'https://crashviewer.nhtsa.dot.gov/CrashAPI'\n",
    "baseurl"
   ]
  },
  {
   "cell_type": "code",
   "execution_count": null,
   "metadata": {},
   "outputs": [],
   "source": [
    "endpoint = '/crashes/GetCaseList?states=49&fromYear=2014&toYear=2015&minNumOfVehicles=1&maxNumOfVehicles=6&format=json'\n",
    "\n",
    "url = baseurl + endpoint"
   ]
  },
  {
   "cell_type": "code",
   "execution_count": 4,
   "metadata": {},
   "outputs": [
    {
     "data": {
      "text/plain": [
       "200"
      ]
     },
     "execution_count": 4,
     "metadata": {},
     "output_type": "execute_result"
    }
   ],
   "source": [
    "r = requests.get(url)\n",
    "r.status_code"
   ]
  },
  {
   "cell_type": "code",
   "execution_count": 6,
   "metadata": {},
   "outputs": [],
   "source": [
    "crash_list = pd.json_normalize(r.json()['Results'][0])\n"
   ]
  },
  {
   "cell_type": "code",
   "execution_count": 17,
   "metadata": {},
   "outputs": [],
   "source": [
    "df = []\n",
    "cases = crash_list['St_Case']\n",
    "for case in cases:\n",
    "    end2 = f'/crashes/GetCaseDetails?stateCase={case}&caseYear=2022&state=49&format=json'\n",
    "    r2 = requests.get(baseurl + end2)\n",
    "    if r2.ok:\n",
    "        try: \n",
    "            temp = pd.json_normalize(r2.json()['Results'][0][0])\n",
    "            df.append(temp)\n",
    "        except:\n",
    "            pass"
   ]
  },
  {
   "cell_type": "code",
   "execution_count": 18,
   "metadata": {},
   "outputs": [],
   "source": [
    "all_df = pd.concat(df)"
   ]
  },
  {
   "cell_type": "code",
   "execution_count": 47,
   "metadata": {},
   "outputs": [],
   "source": [
    "df_vars = all_df[['CrashResultSet.STATENAME','CrashResultSet.CITYNAME', 'CrashResultSet.COUNTYNAME', 'CrashResultSet.CaseYear',\n",
    "                  'CrashResultSet.DAY_WEEKNAME', 'CrashResultSet.HOSP_HRNAME', 'CrashResultSet.LGT_CONDNAME', 'CrashResultSet.RUR_URBNAME',\n",
    "                  'CrashResultSet.WEATHERNAME', 'CrashResultSet.FATALS']]"
   ]
  },
  {
   "cell_type": "code",
   "execution_count": 78,
   "metadata": {},
   "outputs": [],
   "source": [
    "accident_data = df_vars.rename(columns = {'CrashResultSet.STATENAME':'state', 'CrashResultSet.CITYNAME':'city', 'CrashResultSet.COUNTYNAME':'county',\n",
    "                          'CrashResultSet.CaseYear':'year', 'CrashResultSet.DAY_WEEKNAME':'day_of_week', 'CrashResultSet.HOSP_HRNAME':'hospital',\n",
    "                          'CrashResultSet.LGT_CONDNAME':'lighting', 'CrashResultSet.RUR_URBNAME':'population_type',\n",
    "                          'CrashResultSet.WEATHERNAME':'weather', 'CrashResultSet.FATALS':'fatalities'})"
   ]
  },
  {
   "cell_type": "code",
   "execution_count": null,
   "metadata": {},
   "outputs": [],
   "source": [
    "accident_data['hospital'] = accident_data['hospital'].apply(lambda x: 0 if x == \"Not Applicable (Not Transported) \" else 1)\n",
    "\n",
    "# The hopital variable now represents whether those involved in the accident were transported to the hospital"
   ]
  },
  {
   "cell_type": "code",
   "execution_count": 83,
   "metadata": {},
   "outputs": [],
   "source": [
    "accident_data.to_csv('accident_data.csv')"
   ]
  }
 ],
 "metadata": {
  "kernelspec": {
   "display_name": "classes24",
   "language": "python",
   "name": "python3"
  },
  "language_info": {
   "codemirror_mode": {
    "name": "ipython",
    "version": 3
   },
   "file_extension": ".py",
   "mimetype": "text/x-python",
   "name": "python",
   "nbconvert_exporter": "python",
   "pygments_lexer": "ipython3",
   "version": "3.12.5"
  }
 },
 "nbformat": 4,
 "nbformat_minor": 2
}
